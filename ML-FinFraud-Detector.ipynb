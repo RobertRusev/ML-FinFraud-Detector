{
 "cells": [
  {
   "cell_type": "markdown",
   "id": "4acdeef5",
   "metadata": {},
   "source": [
    "## Introduction to the dataset\n",
    "The Bank Account Fraud (BAF) suite of datasets, recently published at NeurIPS 2022, offers a comprehensive collection of synthetic bank account fraud tabular datasets.This suite comprises six distinct datasets, making it a valuable resource for evaluating both novel and existing machine learning (ML) and fair ML methods in the field of fraud detection.  \n",
    "\n",
    "One notable aspect of the BAF datasets is their realism. They are constructed based on present-day real-world datasets specifically curated for fraud detection purposes. This ensures that the datasets closely resemble actual fraud scenarios encountered in financial transactions, making them highly relevant for developing and testing fraud detection models. \n",
    "\n",
    "The BAF datasets introduce controlled bias and imbalanced class distributions, making it valuable for developing fair ML techniques and addressing class imbalance in fraud detection. They are dynamic, featuring temporal data and distribution shifts. Privacy is ensured through privacy-preserving techniques such as differential privacy and generative modeling.  \n",
    "\n",
    "Overall, the Bank Account Fraud (BAF) suite of datasets represents a significant contribution to the field of fraud detection. With their realistic, biased, imbalanced, dynamic, and privacy-preserving nature, these datasets serve as an invaluable resource for evaluating and advancing ML and fair ML methods in the domain of fraud detection.  \n",
    "\n",
    "You can find the dataset [here](https://www.kaggle.com/datasets/sgpjesus/bank-account-fraud-dataset-neurips-2022)."
   ]
  },
  {
   "cell_type": "markdown",
   "id": "b91cffb4",
   "metadata": {},
   "source": [
    "## Problem statement\n",
    "The problem is to develop a machine learning model that can effectively detect fraudulent bank account activities using the Bank Account Fraud (BAF) suite of datasets. The goal is to build a robust and accurate fraud detection system that can identify fraudulent transactions while minimizing false positives."
   ]
  },
  {
   "cell_type": "markdown",
   "id": "7cbf2000",
   "metadata": {},
   "source": [
    "### Imports"
   ]
  },
  {
   "cell_type": "code",
   "execution_count": 1,
   "id": "6962e4b5",
   "metadata": {},
   "outputs": [],
   "source": [
    "import pandas as pd\n",
    "import numpy as np\n",
    "from sklearn.preprocessing import LabelEncoder, StandardScaler\n",
    "from sklearn.feature_selection import VarianceThreshold\n",
    "from sklearn.model_selection import train_test_split\n",
    "from sklearn.metrics import classification_report, precision_recall_curve, auc, roc_curve, roc_auc_score\n",
    "from imblearn.over_sampling import RandomOverSampler\n",
    "import xgboost as xgb\n",
    "import matplotlib.pyplot as plt"
   ]
  },
  {
   "cell_type": "markdown",
   "id": "e61c03db",
   "metadata": {},
   "source": [
    "## Data collection"
   ]
  },
  {
   "cell_type": "markdown",
   "id": "fc86c89e",
   "metadata": {},
   "source": [
    "### Reading the dowloaded .csv"
   ]
  },
  {
   "cell_type": "code",
   "execution_count": 2,
   "id": "23107073",
   "metadata": {},
   "outputs": [],
   "source": [
    "transactions = pd.read_csv('data/Base.csv')"
   ]
  },
  {
   "cell_type": "markdown",
   "id": "3d2fcf0f",
   "metadata": {},
   "source": [
    "### Checking for null values"
   ]
  },
  {
   "cell_type": "code",
   "execution_count": 3,
   "id": "81a371cf",
   "metadata": {},
   "outputs": [
    {
     "data": {
      "text/plain": [
       "fraud_bool                          0\n",
       "income                              0\n",
       "name_email_similarity               0\n",
       "prev_address_months_count           0\n",
       "current_address_months_count        0\n",
       "customer_age                        0\n",
       "days_since_request                  0\n",
       "intended_balcon_amount              0\n",
       "payment_type                        0\n",
       "zip_count_4w                        0\n",
       "velocity_6h                         0\n",
       "velocity_24h                        0\n",
       "velocity_4w                         0\n",
       "bank_branch_count_8w                0\n",
       "date_of_birth_distinct_emails_4w    0\n",
       "employment_status                   0\n",
       "credit_risk_score                   0\n",
       "email_is_free                       0\n",
       "housing_status                      0\n",
       "phone_home_valid                    0\n",
       "phone_mobile_valid                  0\n",
       "bank_months_count                   0\n",
       "has_other_cards                     0\n",
       "proposed_credit_limit               0\n",
       "foreign_request                     0\n",
       "source                              0\n",
       "session_length_in_minutes           0\n",
       "device_os                           0\n",
       "keep_alive_session                  0\n",
       "device_distinct_emails_8w           0\n",
       "device_fraud_count                  0\n",
       "month                               0\n",
       "dtype: int64"
      ]
     },
     "execution_count": 3,
     "metadata": {},
     "output_type": "execute_result"
    }
   ],
   "source": [
    "transactions.isna().sum()"
   ]
  },
  {
   "cell_type": "markdown",
   "id": "b0088364",
   "metadata": {},
   "source": [
    "Fortunately for us, the data seems to be clean."
   ]
  },
  {
   "cell_type": "markdown",
   "id": "38558f93",
   "metadata": {},
   "source": [
    "## Data cleaning and preprocessing"
   ]
  },
  {
   "cell_type": "markdown",
   "id": "2494297d",
   "metadata": {},
   "source": [
    "### Label encoding\n",
    "We are going to use **LabelEncoder** from the sklearn library. We have identified 4 variables that need label encoding as per the data description.\n",
    "They are : \n",
    "- payment_type_encoded(categorical) - Credit payment plan type. 5 possible (annonymized) values.\n",
    "- employment_status (categorical): Employment status of the applicant. 7 possible (annonymized) values.\n",
    "- housing_status (categorical): Current residential status for applicant. 7 possible (annonymized) values.\n",
    "- device_os (categorical): Operative system of device that made request. Possible values are: Windows, macOS, Linux, X11, or other."
   ]
  },
  {
   "cell_type": "code",
   "execution_count": 4,
   "id": "a8f4028c",
   "metadata": {},
   "outputs": [],
   "source": [
    "label_encoder = LabelEncoder()\n",
    "transactions['payment_type_encoded'] = label_encoder.fit_transform(transactions['payment_type'])\n",
    "transactions['employment_status_encoded'] = label_encoder.fit_transform(transactions['employment_status'])\n",
    "transactions['housing_status_encoded'] = label_encoder.fit_transform(transactions['housing_status'])\n",
    "transactions['device_os_encoded'] = label_encoder.fit_transform(transactions['device_os'])"
   ]
  },
  {
   "cell_type": "markdown",
   "id": "d5c2eff0",
   "metadata": {},
   "source": [
    "### One-hot encoding\n",
    "In the dataset there is one binary categorical variable which is : \n",
    "- source (categorical): Online source of application. Either browser (INTERNEI) or app (TELEAPP).\n",
    "\n",
    "Due to it being binary we can use **.get_dummies** from pandas to encode this variable."
   ]
  },
  {
   "cell_type": "code",
   "execution_count": 5,
   "id": "0d67c3e2",
   "metadata": {},
   "outputs": [],
   "source": [
    "source_encoded = pd.get_dummies(transactions['source'], prefix='source')\n",
    "transactions_encoded = pd.concat([transactions, source_encoded], axis=1)"
   ]
  },
  {
   "cell_type": "markdown",
   "id": "c3f0711d",
   "metadata": {},
   "source": [
    "Now let's drop all the non-encoded variables from the transactions_encoded dataframe."
   ]
  },
  {
   "cell_type": "code",
   "execution_count": 6,
   "id": "875c0c91",
   "metadata": {},
   "outputs": [],
   "source": [
    "transactions_encoded = transactions_encoded.drop(['source', 'payment_type', 'employment_status', 'housing_status', 'device_os'], axis=1)"
   ]
  },
  {
   "cell_type": "markdown",
   "id": "ee097e79",
   "metadata": {},
   "source": [
    "### Feature engineering\n",
    "There are two features we can engineer from the current dataset that could give us some more information that could be important to the future model.  \n",
    "- address_stablity  \n",
    "\n",
    "We can combine the information from \"prev_address_months_count\" and \"current_address_months_count\" to create a feature that represents the stability of the applicant's address. We can take the difference of the two to form our applicant's address stability.\n",
    "\n",
    "- application velocity  \n",
    "\n",
    "We can combine the velocity variables (\"velocity_6h,\" \"velocity_24h,\" \"velocity_4w\") to create an aggregated velocity feature. We can take the average of these variables to represent the overall application velocity of the applicant."
   ]
  },
  {
   "cell_type": "code",
   "execution_count": 7,
   "id": "a28ccfc7",
   "metadata": {},
   "outputs": [],
   "source": [
    "transactions_encoded['address_stability'] = transactions_encoded['current_address_months_count'] - transactions_encoded['prev_address_months_count']\n",
    "transactions_encoded['application_velocity'] = (transactions_encoded['velocity_6h'] + transactions_encoded['velocity_24h'] + transactions_encoded['velocity_4w']) / 3"
   ]
  },
  {
   "cell_type": "markdown",
   "id": "878e3605",
   "metadata": {},
   "source": [
    "## Explanatory data analysis"
   ]
  },
  {
   "cell_type": "markdown",
   "id": "ed50109c",
   "metadata": {},
   "source": [
    "### Class imbalance\n",
    "It is improtant to check just how severe our class imbalance is for our target variable - fraud_bool."
   ]
  },
  {
   "cell_type": "code",
   "execution_count": 8,
   "id": "4d503fc7",
   "metadata": {},
   "outputs": [
    {
     "name": "stdout",
     "output_type": "stream",
     "text": [
      "Percentage of fraud_bool = 1: 1.1029\n",
      "Percentage of fraud_bool = 0: 98.89710000000001\n"
     ]
    }
   ],
   "source": [
    "fraud_counts = transactions_encoded['fraud_bool'].value_counts()\n",
    "\n",
    "percentage_fraud_1 = (fraud_counts[1] / len(transactions_encoded)) * 100\n",
    "percentage_fraud_0 = (fraud_counts[0] / len(transactions_encoded)) * 100\n",
    "\n",
    "print(\"Percentage of fraud_bool = 1:\", percentage_fraud_1)\n",
    "print(\"Percentage of fraud_bool = 0:\", percentage_fraud_0)"
   ]
  },
  {
   "cell_type": "markdown",
   "id": "af51ac54",
   "metadata": {},
   "source": [
    "Class imbalance poses a major obstacle in fraud detection models, as it introduces a significant disparity in the number of instances between the positive class (indicating fraud) and the negative class (representing legitimate transactions).   \n",
    "This skewed distribution of data makes it difficult for the model to effectively learn and classify rare instances of fraud accurately."
   ]
  },
  {
   "cell_type": "markdown",
   "id": "9e1f4f12",
   "metadata": {},
   "source": [
    "### Correlations to the target variable\n",
    "Let's check on the correlations with fraud_bool."
   ]
  },
  {
   "cell_type": "code",
   "execution_count": 9,
   "id": "2bff7bd8",
   "metadata": {},
   "outputs": [],
   "source": [
    "independent_vars = [col for col in transactions_encoded.columns if col != 'fraud_bool']\n",
    "X = transactions_encoded[independent_vars]\n",
    "y = transactions_encoded['fraud_bool']"
   ]
  },
  {
   "cell_type": "code",
   "execution_count": 10,
   "id": "0363a8c0",
   "metadata": {},
   "outputs": [
    {
     "name": "stdout",
     "output_type": "stream",
     "text": [
      "credit_risk_score                   0.070624\n",
      "proposed_credit_limit               0.068907\n",
      "customer_age                        0.062959\n",
      "device_os_encoded                   0.057834\n",
      "income                              0.045079\n",
      "address_stability                   0.037867\n",
      "device_distinct_emails_8w           0.035704\n",
      "current_address_months_count        0.033701\n",
      "payment_type_encoded                0.028304\n",
      "email_is_free                       0.027758\n",
      "foreign_request                     0.016885\n",
      "month                               0.013250\n",
      "session_length_in_minutes           0.008999\n",
      "zip_count_4w                        0.005212\n",
      "source_TELEAPP                      0.003922\n",
      "days_since_request                  0.000567\n",
      "bank_months_count                  -0.003222\n",
      "source_INTERNET                    -0.003922\n",
      "velocity_24h                       -0.011183\n",
      "velocity_4w                        -0.011536\n",
      "bank_branch_count_8w               -0.011577\n",
      "phone_mobile_valid                 -0.013180\n",
      "velocity_6h                        -0.016892\n",
      "application_velocity               -0.017480\n",
      "employment_status_encoded          -0.021676\n",
      "intended_balcon_amount             -0.024524\n",
      "prev_address_months_count          -0.026031\n",
      "phone_home_valid                   -0.035128\n",
      "has_other_cards                    -0.035156\n",
      "name_email_similarity              -0.036720\n",
      "date_of_birth_distinct_emails_4w   -0.043224\n",
      "keep_alive_session                 -0.050296\n",
      "housing_status_encoded             -0.078000\n",
      "device_fraud_count                       NaN\n",
      "dtype: float64\n"
     ]
    }
   ],
   "source": [
    "correlations = X.corrwith(y)\n",
    "\n",
    "sorted_correlations = correlations.sort_values(ascending=False)\n",
    "\n",
    "print(sorted_correlations)"
   ]
  },
  {
   "cell_type": "markdown",
   "id": "30a7b332",
   "metadata": {},
   "source": [
    "The correlations between the independent variables and the target variable (fraud_bool) appear to be relatively low. This could be attributed to the imbalance in the distribution of the target variable, which can make the task of detecting fraud more challenging.\n",
    "\n",
    "Among the variables with positive correlations, we observe that credit_risk_score, proposed_credit_limit, and income show relatively stronger associations with fraud. This suggests that individuals with higher credit risk scores, larger proposed credit limits, and higher incomes may have a slightly higher likelihood of engaging in fraudulent activities."
   ]
  },
  {
   "cell_type": "markdown",
   "id": "95ca1eef",
   "metadata": {},
   "source": [
    "## Feature selection\n",
    "Our feature selection process will be defined by using **VarianceThreshold** from the sklearn library. The threshold we are going to set is 0.1."
   ]
  },
  {
   "cell_type": "code",
   "execution_count": 11,
   "id": "12433d2e",
   "metadata": {},
   "outputs": [],
   "source": [
    "threshold = 0.1\n",
    "variance_selector = VarianceThreshold(threshold=threshold)\n",
    "variance_selector.fit(transactions_encoded)\n",
    "selected_features_mask = variance_selector.get_support()\n",
    "selected_features = transactions_encoded.columns[selected_features_mask]\n",
    "X_selected = transactions_encoded[selected_features]\n",
    "unselected_features = transactions_encoded.columns[~selected_features_mask]"
   ]
  },
  {
   "cell_type": "markdown",
   "id": "b849ce12",
   "metadata": {},
   "source": [
    "Let's see the features that didn't make the cut."
   ]
  },
  {
   "cell_type": "code",
   "execution_count": 12,
   "id": "9a31c98e",
   "metadata": {},
   "outputs": [
    {
     "data": {
      "text/plain": [
       "Index(['fraud_bool', 'income', 'name_email_similarity', 'phone_mobile_valid',\n",
       "       'foreign_request', 'device_distinct_emails_8w', 'device_fraud_count',\n",
       "       'source_INTERNET', 'source_TELEAPP'],\n",
       "      dtype='object')"
      ]
     },
     "execution_count": 12,
     "metadata": {},
     "output_type": "execute_result"
    }
   ],
   "source": [
    "unselected_features"
   ]
  },
  {
   "cell_type": "markdown",
   "id": "7414218b",
   "metadata": {},
   "source": [
    "Let's remove them from our data."
   ]
  },
  {
   "cell_type": "code",
   "execution_count": 13,
   "id": "024cfbef",
   "metadata": {},
   "outputs": [],
   "source": [
    "X = transactions_encoded.drop(['fraud_bool', 'device_fraud_count', 'income', 'name_email_similarity', 'phone_mobile_valid',\n",
    "                               'foreign_request', 'device_distinct_emails_8w', 'source_INTERNET', 'source_TELEAPP'], axis=1)\n",
    "y = transactions_encoded['fraud_bool']"
   ]
  },
  {
   "cell_type": "markdown",
   "id": "08e5f395",
   "metadata": {},
   "source": [
    "## Handling class imbalance\n",
    "To handle the class imbalance demostrated earlier, we are going to use **RandomOverSampler** from the imblearn library.  \n",
    "Oversampling involves increasing the number of instances in the minority class by generating synthetic samples, thus balancing the distribution of the classes. This helps to alleviate the bias and allows the model to learn from a more representative dataset.This can potentially improve the model's ability to learn the patterns and characteristics associated with fraud, leading to better predictions and fraud detection performance."
   ]
  },
  {
   "cell_type": "code",
   "execution_count": 14,
   "id": "2f4d17d3",
   "metadata": {},
   "outputs": [],
   "source": [
    "oversampler = RandomOverSampler(random_state=42)\n",
    "X_resampled, y_resampled = oversampler.fit_resample(X_selected, y)"
   ]
  },
  {
   "cell_type": "markdown",
   "id": "b4f2884c",
   "metadata": {},
   "source": [
    "## Train test split and scaling\n",
    "Now that we have handled class imbalance, it's time to split the dataset into training and testing data.\n",
    "We are going to use **train_test_split** from the sklearn library to do that.  \n",
    "Stratify is also being used to ensure that the class distribution in the original dataset is maintained in both the training and testing subsets. By doing that, the split will contain a proportional representation of both fraud and non-fraud cases, preserving the imbalance solution achieved through oversampling.  \n",
    "The use of stratify is particularly important in cases of class imbalance, as it helps prevent situations where one subset ends up with significantly fewer instances of the minority class, which could negatively impact model training and evaluation. "
   ]
  },
  {
   "cell_type": "code",
   "execution_count": 15,
   "id": "b842a6ca",
   "metadata": {},
   "outputs": [],
   "source": [
    "X_train, X_test, y_train, y_test = train_test_split(X_resampled, y_resampled, test_size=0.2, stratify=y_resampled, random_state=42)"
   ]
  },
  {
   "cell_type": "markdown",
   "id": "5e78bd27",
   "metadata": {},
   "source": [
    "Another step we are going to take is scaling our features.  \n",
    "We are going to use **StandardScaler** from the sklearn library.  \n",
    "Scaling is used to ensure that all the features have similar scales and distributions. This is important because many machine learning algorithms are sensitive to the scale of the input features.\n",
    "In our model, scaling is particularly important because it can help prevent certain features from dominating the learning process due to their larger scales - like fraud_bool. It ensures that all features contribute proportionately to the model training, which is essential for capturing patterns and making accurate predictions.\n",
    "\n",
    "We are only scaling X because scaling y could potentially introduce unwanted biases or affect the interpretability of the results."
   ]
  },
  {
   "cell_type": "code",
   "execution_count": 16,
   "id": "04cc10df",
   "metadata": {},
   "outputs": [],
   "source": [
    "scaler = StandardScaler()\n",
    "X_train_scaled = scaler.fit_transform(X_train)\n",
    "X_test_scaled = scaler.transform(X_test)"
   ]
  },
  {
   "cell_type": "markdown",
   "id": "3b11a04c",
   "metadata": {},
   "source": [
    "## Model training\n",
    "The model we have picked for fraud detection is XGBoost. Some of the reasons are as follows:\n",
    "- High performance: it is efficient and can handle large-scale datasets, making it suitable for processing a significant amount of data in fraud detection tasks.\n",
    "\n",
    "- Gradient boosting: it is an ensemble learning algorithm that combines weak models (decision trees) iteratively. By learning from previous models' mistakes, XGBoost focuses on difficult-to-predict instances, which is crucial for detecting complex fraud patterns.\n",
    "\n",
    "- Feature importance: it allows evaluation of feature importance, helping identify influential features in fraud detection. This guides feature engineering efforts and provides insights into fraudulent transaction characteristics\n",
    "\n",
    "We have also set use_label_encoder to False since we are getting a warning when fitting the data."
   ]
  },
  {
   "cell_type": "code",
   "execution_count": 17,
   "id": "453bac31",
   "metadata": {},
   "outputs": [],
   "source": [
    "xgb_classifier = xgb.XGBClassifier(use_label_encoder=False, random_state=42)"
   ]
  },
  {
   "cell_type": "code",
   "execution_count": 18,
   "id": "9776d9af",
   "metadata": {},
   "outputs": [
    {
     "name": "stdout",
     "output_type": "stream",
     "text": [
      "[15:16:33] WARNING: /private/var/folders/5j/076zx5bn05l7x2f2nsy4pvmh0000gn/T/pip-install-4uae_enj/xgboost_83298de548ce4688a6bffabe59404bf5/build/temp.macosx-10.6-intel-3.6/xgboost/src/learner.cc:1115: Starting in XGBoost 1.3.0, the default evaluation metric used with the objective 'binary:logistic' was changed from 'error' to 'logloss'. Explicitly set eval_metric if you'd like to restore the old behavior.\n"
     ]
    },
    {
     "data": {
      "text/plain": [
       "XGBClassifier(base_score=0.5, booster='gbtree', colsample_bylevel=1,\n",
       "              colsample_bynode=1, colsample_bytree=1, enable_categorical=False,\n",
       "              gamma=0, gpu_id=-1, importance_type=None,\n",
       "              interaction_constraints='', learning_rate=0.300000012,\n",
       "              max_delta_step=0, max_depth=6, min_child_weight=1, missing=nan,\n",
       "              monotone_constraints='()', n_estimators=100, n_jobs=1,\n",
       "              num_parallel_tree=1, predictor='auto', random_state=42,\n",
       "              reg_alpha=0, reg_lambda=1, scale_pos_weight=1, subsample=1,\n",
       "              tree_method='exact', use_label_encoder=False,\n",
       "              validate_parameters=1, verbosity=None)"
      ]
     },
     "execution_count": 18,
     "metadata": {},
     "output_type": "execute_result"
    }
   ],
   "source": [
    "xgb_classifier.fit(X_train_scaled, y_train)"
   ]
  },
  {
   "cell_type": "markdown",
   "id": "744e43bc",
   "metadata": {},
   "source": [
    "Training the model is time consuming since our data consists of 800,000 records."
   ]
  },
  {
   "cell_type": "markdown",
   "id": "87eac9e6",
   "metadata": {},
   "source": [
    "### Feature importance\n",
    "Let's see our feature importance provided handily from our XGBoost model."
   ]
  },
  {
   "cell_type": "code",
   "execution_count": 19,
   "id": "3027a319",
   "metadata": {},
   "outputs": [],
   "source": [
    "importance_scores = xgb_classifier.feature_importances_"
   ]
  },
  {
   "cell_type": "markdown",
   "id": "f3da8dcd",
   "metadata": {},
   "source": [
    "Let's create a dataframe so we can visualise it better."
   ]
  },
  {
   "cell_type": "code",
   "execution_count": 20,
   "id": "df66a796",
   "metadata": {},
   "outputs": [
    {
     "data": {
      "text/html": [
       "<div>\n",
       "<style scoped>\n",
       "    .dataframe tbody tr th:only-of-type {\n",
       "        vertical-align: middle;\n",
       "    }\n",
       "\n",
       "    .dataframe tbody tr th {\n",
       "        vertical-align: top;\n",
       "    }\n",
       "\n",
       "    .dataframe thead th {\n",
       "        text-align: right;\n",
       "    }\n",
       "</style>\n",
       "<table border=\"1\" class=\"dataframe\">\n",
       "  <thead>\n",
       "    <tr style=\"text-align: right;\">\n",
       "      <th></th>\n",
       "      <th>Feature</th>\n",
       "      <th>Importance</th>\n",
       "    </tr>\n",
       "  </thead>\n",
       "  <tbody>\n",
       "    <tr>\n",
       "      <th>0</th>\n",
       "      <td>housing_status_encoded</td>\n",
       "      <td>0.193356</td>\n",
       "    </tr>\n",
       "    <tr>\n",
       "      <th>1</th>\n",
       "      <td>device_os_encoded</td>\n",
       "      <td>0.107643</td>\n",
       "    </tr>\n",
       "    <tr>\n",
       "      <th>2</th>\n",
       "      <td>phone_home_valid</td>\n",
       "      <td>0.095807</td>\n",
       "    </tr>\n",
       "    <tr>\n",
       "      <th>3</th>\n",
       "      <td>has_other_cards</td>\n",
       "      <td>0.080119</td>\n",
       "    </tr>\n",
       "    <tr>\n",
       "      <th>4</th>\n",
       "      <td>keep_alive_session</td>\n",
       "      <td>0.076785</td>\n",
       "    </tr>\n",
       "    <tr>\n",
       "      <th>5</th>\n",
       "      <td>prev_address_months_count</td>\n",
       "      <td>0.056437</td>\n",
       "    </tr>\n",
       "    <tr>\n",
       "      <th>6</th>\n",
       "      <td>email_is_free</td>\n",
       "      <td>0.051698</td>\n",
       "    </tr>\n",
       "    <tr>\n",
       "      <th>7</th>\n",
       "      <td>customer_age</td>\n",
       "      <td>0.033233</td>\n",
       "    </tr>\n",
       "    <tr>\n",
       "      <th>8</th>\n",
       "      <td>employment_status_encoded</td>\n",
       "      <td>0.030284</td>\n",
       "    </tr>\n",
       "    <tr>\n",
       "      <th>9</th>\n",
       "      <td>proposed_credit_limit</td>\n",
       "      <td>0.030024</td>\n",
       "    </tr>\n",
       "    <tr>\n",
       "      <th>10</th>\n",
       "      <td>current_address_months_count</td>\n",
       "      <td>0.022302</td>\n",
       "    </tr>\n",
       "    <tr>\n",
       "      <th>11</th>\n",
       "      <td>month</td>\n",
       "      <td>0.020279</td>\n",
       "    </tr>\n",
       "    <tr>\n",
       "      <th>12</th>\n",
       "      <td>date_of_birth_distinct_emails_4w</td>\n",
       "      <td>0.019957</td>\n",
       "    </tr>\n",
       "    <tr>\n",
       "      <th>13</th>\n",
       "      <td>bank_branch_count_8w</td>\n",
       "      <td>0.018702</td>\n",
       "    </tr>\n",
       "    <tr>\n",
       "      <th>14</th>\n",
       "      <td>credit_risk_score</td>\n",
       "      <td>0.018387</td>\n",
       "    </tr>\n",
       "    <tr>\n",
       "      <th>15</th>\n",
       "      <td>bank_months_count</td>\n",
       "      <td>0.016608</td>\n",
       "    </tr>\n",
       "    <tr>\n",
       "      <th>16</th>\n",
       "      <td>payment_type_encoded</td>\n",
       "      <td>0.015743</td>\n",
       "    </tr>\n",
       "    <tr>\n",
       "      <th>17</th>\n",
       "      <td>velocity_4w</td>\n",
       "      <td>0.015307</td>\n",
       "    </tr>\n",
       "    <tr>\n",
       "      <th>18</th>\n",
       "      <td>address_stability</td>\n",
       "      <td>0.015228</td>\n",
       "    </tr>\n",
       "    <tr>\n",
       "      <th>19</th>\n",
       "      <td>intended_balcon_amount</td>\n",
       "      <td>0.015030</td>\n",
       "    </tr>\n",
       "    <tr>\n",
       "      <th>20</th>\n",
       "      <td>days_since_request</td>\n",
       "      <td>0.012227</td>\n",
       "    </tr>\n",
       "    <tr>\n",
       "      <th>21</th>\n",
       "      <td>zip_count_4w</td>\n",
       "      <td>0.011780</td>\n",
       "    </tr>\n",
       "    <tr>\n",
       "      <th>22</th>\n",
       "      <td>session_length_in_minutes</td>\n",
       "      <td>0.011368</td>\n",
       "    </tr>\n",
       "    <tr>\n",
       "      <th>23</th>\n",
       "      <td>velocity_24h</td>\n",
       "      <td>0.010978</td>\n",
       "    </tr>\n",
       "    <tr>\n",
       "      <th>24</th>\n",
       "      <td>velocity_6h</td>\n",
       "      <td>0.010967</td>\n",
       "    </tr>\n",
       "    <tr>\n",
       "      <th>25</th>\n",
       "      <td>application_velocity</td>\n",
       "      <td>0.009749</td>\n",
       "    </tr>\n",
       "  </tbody>\n",
       "</table>\n",
       "</div>"
      ],
      "text/plain": [
       "                             Feature  Importance\n",
       "0             housing_status_encoded    0.193356\n",
       "1                  device_os_encoded    0.107643\n",
       "2                   phone_home_valid    0.095807\n",
       "3                    has_other_cards    0.080119\n",
       "4                 keep_alive_session    0.076785\n",
       "5          prev_address_months_count    0.056437\n",
       "6                      email_is_free    0.051698\n",
       "7                       customer_age    0.033233\n",
       "8          employment_status_encoded    0.030284\n",
       "9              proposed_credit_limit    0.030024\n",
       "10      current_address_months_count    0.022302\n",
       "11                             month    0.020279\n",
       "12  date_of_birth_distinct_emails_4w    0.019957\n",
       "13              bank_branch_count_8w    0.018702\n",
       "14                 credit_risk_score    0.018387\n",
       "15                 bank_months_count    0.016608\n",
       "16              payment_type_encoded    0.015743\n",
       "17                       velocity_4w    0.015307\n",
       "18                 address_stability    0.015228\n",
       "19            intended_balcon_amount    0.015030\n",
       "20                days_since_request    0.012227\n",
       "21                      zip_count_4w    0.011780\n",
       "22         session_length_in_minutes    0.011368\n",
       "23                      velocity_24h    0.010978\n",
       "24                       velocity_6h    0.010967\n",
       "25              application_velocity    0.009749"
      ]
     },
     "execution_count": 20,
     "metadata": {},
     "output_type": "execute_result"
    }
   ],
   "source": [
    "feature_names = X_train.columns\n",
    "\n",
    "feature_importance_df = pd.DataFrame({'Feature': feature_names[:len(importance_scores)], 'Importance': importance_scores})\n",
    "\n",
    "sorted_feature_importance_df = feature_importance_df.sort_values('Importance', ascending=False).reset_index(drop=True)\n",
    "\n",
    "sorted_feature_importance_df"
   ]
  },
  {
   "cell_type": "markdown",
   "id": "3c63d24c",
   "metadata": {},
   "source": [
    "We can make some key observations regarding feature importance.\n",
    "- Housing status: The housing status of a person appears to be the most influential feature. It suggests that people with certain types of housing arrangements may be more prone to engaging in fraudulent activities. For example, people living in temporary accommodations or unstable housing situations might exhibit higher fraud risk.\n",
    "\n",
    "- Device OS: The type of device operating system used during the transaction or application process is another important factor. Fraudsters may exploit specific device vulnerabilities or utilize certain OS features to carry out fraudulent activities. By considering the device OS, the fraud detection model can identify patterns and flag suspicious transactions.\n",
    "\n",
    "- Phone validity: The validity of the phone number associated with the home address is an essential feature. Fraudsters may provide fake or invalid phone numbers, making it difficult to establish contact or verify customer details. A higher importance score for this feature suggests that fraudsters often manipulate or provide false phone numbers to carry out fraudulent activities.\n",
    "\n",
    "- Other cards: The presence of other credit or payment cards owned by the customer is a relevant feature. Individuals with multiple cards may have a higher risk of involvement in fraudulent transactions. Fraudsters often acquire multiple cards to carry out coordinated frauds or engage in unauthorized transactions.\n",
    "\n",
    "- Session longevity: Maintaining a continuous session during the application process is an important indicator of potential fraud. Fraudsters may create disruptions or abruptly end sessions to avoid detection or manipulate the application process. By emphasizing the importance of session continuity, the model can flag such suspicious activities."
   ]
  },
  {
   "cell_type": "markdown",
   "id": "3a934b32",
   "metadata": {},
   "source": [
    "### Predicting fraud on unseen data"
   ]
  },
  {
   "cell_type": "code",
   "execution_count": 21,
   "id": "710a59b4",
   "metadata": {},
   "outputs": [],
   "source": [
    "y_pred = xgb_classifier.predict(X_test_scaled)\n",
    "y_pred_proba = xgb_classifier.predict_proba(X_test_scaled)[:, 1]"
   ]
  },
  {
   "cell_type": "markdown",
   "id": "055e83a8",
   "metadata": {},
   "source": [
    "## Model evaluation"
   ]
  },
  {
   "cell_type": "markdown",
   "id": "7313bbe2",
   "metadata": {},
   "source": [
    "### Classification report\n",
    "**Classification_report** from sklearn is used to evaluate the performance of a classification model in binary classification tasks. It provides metrics such as precision, recall, F1-score, and support. These metrics help assess the model's ability to accurately predict positive instances (fraud cases) and minimize false positives and false negatives. By using the classification report, we can measure the model's performance and make informed decisions regarding its deployment for fraud detection."
   ]
  },
  {
   "cell_type": "code",
   "execution_count": 22,
   "id": "879d86f2",
   "metadata": {},
   "outputs": [
    {
     "name": "stdout",
     "output_type": "stream",
     "text": [
      "              precision    recall  f1-score   support\n",
      "\n",
      "           0       0.91      0.86      0.88    197795\n",
      "           1       0.87      0.91      0.89    197794\n",
      "\n",
      "    accuracy                           0.89    395589\n",
      "   macro avg       0.89      0.89      0.89    395589\n",
      "weighted avg       0.89      0.89      0.89    395589\n",
      "\n"
     ]
    }
   ],
   "source": [
    "print(classification_report(y_test, y_pred))"
   ]
  },
  {
   "cell_type": "markdown",
   "id": "14577f7a",
   "metadata": {},
   "source": [
    "Let's summarise what we can observe from the report.\n",
    "\n",
    "- Precision: The precision for class 0 (non-fraud cases) is 0.91, indicating that out of all the instances predicted as non-fraud, 91% are actually non-fraud. The precision for class 1 (fraud cases) is 0.87, meaning that out of all the instances predicted as fraud, 87% are actually fraud.\n",
    "\n",
    "- Recall: The recall for class 0 is 0.86, indicating that the model correctly identifies 86% of the actual non-fraud cases. The recall for class 1 is 0.91, meaning that the model captures 91% of the actual fraud cases.\n",
    "\n",
    "- F1-score: For class 0, the F1-score is 0.88, and for class 1, it is 0.89. These scores provide a balanced measure of the model's performance, considering both precision and recall.\n",
    "\n",
    "- Support: The support represents the number of instances of each class in the test set. In this case, there are 197,795 instances of class 0 and 197,794 instances of class 1.\n",
    "\n",
    "- Accuracy: The overall accuracy of the model is 0.89, indicating that it correctly classifies 89% of the instances in the test set."
   ]
  },
  {
   "cell_type": "markdown",
   "id": "1023ba3c",
   "metadata": {},
   "source": [
    "## Precision-Recall curve\n",
    "We use the  precision-recall curve to evaluate a binary classification model's performance in cases of imbalanced classes. It shows the trade-off between precision and recall at different probability thresholds, helping us assess the model's ability to identify positive cases (fraud) accurately. It provides a visual representation of performance and is useful when accuracy alone is not reliable due to class imbalance.  \n",
    "We use the appropriate functions from sklearn."
   ]
  },
  {
   "cell_type": "code",
   "execution_count": 23,
   "id": "82782e66",
   "metadata": {},
   "outputs": [],
   "source": [
    "precision, recall, _ = precision_recall_curve(y_test, y_pred_proba)\n",
    "pr_auc = auc(recall, precision)"
   ]
  },
  {
   "cell_type": "markdown",
   "id": "acc419e3",
   "metadata": {},
   "source": [
    "Now that we have calculated the number, let's plot it."
   ]
  },
  {
   "cell_type": "code",
   "execution_count": 24,
   "id": "af96848f",
   "metadata": {},
   "outputs": [
    {
     "data": {
      "image/png": "[encoded data removed]",
      "text/plain": [
       "<Figure size 432x288 with 1 Axes>"
      ]
     },
     "metadata": {
      "needs_background": "light"
     },
     "output_type": "display_data"
    }
   ],
   "source": [
    "plt.figure()\n",
    "plt.step(recall, precision, color='b', alpha=0.2, where='post')\n",
    "plt.fill_between(recall, precision, alpha=0.2, color='b')\n",
    "plt.xlabel('Recall')\n",
    "plt.ylabel('Precision')\n",
    "plt.ylim([0.0, 1.05])\n",
    "plt.xlim([0.0, 1.0])\n",
    "plt.title('Precision-Recall Curve (AUC={:.2f})'.format(pr_auc))\n",
    "plt.show()"
   ]
  },
  {
   "cell_type": "markdown",
   "id": "373c3b6a",
   "metadata": {},
   "source": [
    "We see that we get a value of 0.94. The area under the curve (AUC) represents the model's ability to distinguish between positive and negative classes, with a value ranging from 0 to 1.  \n",
    "A value of 0.94 indicates that the model is capable of differentiating between fraud and non-fraud transactions with a high degree of accuracy."
   ]
  },
  {
   "cell_type": "markdown",
   "id": "f7891321",
   "metadata": {},
   "source": [
    "## Receiver Operating Characteristic (ROC) curve\n",
    "We use ROC to evaluate the performance of our model. It provides a visual representation of the trade-off between the true positive rate (sensitivity) and the false positive rate (1 - specificity) across different classification thresholds. By plotting the ROC curve, we can assess how well the model can distinguish between positive and negative classes. The curve's shape and the area under it (AUC again) indicate the model's overall performance, with a higher AUC suggesting better ability.  \n",
    "Again, we use the appropriate sklearn functions to calculate the curve."
   ]
  },
  {
   "cell_type": "code",
   "execution_count": 25,
   "id": "d8bb3386",
   "metadata": {},
   "outputs": [],
   "source": [
    "fpr, tpr, thresholds = roc_curve(y_test, y_pred_proba)\n",
    "auc = roc_auc_score(y_test, y_pred_proba)"
   ]
  },
  {
   "cell_type": "markdown",
   "id": "5a5d5396",
   "metadata": {},
   "source": [
    "And now let's visualise it."
   ]
  },
  {
   "cell_type": "code",
   "execution_count": 26,
   "id": "d1efc020",
   "metadata": {},
   "outputs": [
    {
     "data": {
      "image/png": "[encoded data removed]",
      "text/plain": [
       "<Figure size 432x288 with 1 Axes>"
      ]
     },
     "metadata": {
      "needs_background": "light"
     },
     "output_type": "display_data"
    }
   ],
   "source": [
    "plt.plot(fpr, tpr, label='ROC curve (AUC = {:.2f})'.format(auc))\n",
    "plt.plot([0, 1], [0, 1], 'k--')  # Diagonal line\n",
    "plt.xlabel('False Positive Rate')\n",
    "plt.ylabel('True Positive Rate')\n",
    "plt.title('Receiver Operating Characteristic (ROC) Curve')\n",
    "plt.legend(loc='lower right')\n",
    "plt.show()"
   ]
  },
  {
   "cell_type": "markdown",
   "id": "925771eb",
   "metadata": {},
   "source": [
    "AUC is 0.95, it indicates that our model has a high true positive rate and a low false positive rate.\n",
    "\n",
    "The \"lasso\" shape of the ROC curve suggests that the model is performing well across a range of decision thresholds. It implies that the model achieves high true positive rates while maintaining a relatively low false positive rate. This is a desirable property for our fraud detection model since it indicates that the model can effectively identify fraudulent transactions without generating a large number of false positives.\n",
    "\n",
    "The AUC value of 0.95 further confirms the model's strong discriminatory power. An AUC close to 1 indicates that the model has a high probability of ranking a randomly chosen fraudulent transaction higher than a randomly chosen non-fraudulent transaction."
   ]
  }
 ],
 "metadata": {
  "kernelspec": {
   "display_name": "Python 3",
   "language": "python",
   "name": "python3"
  },
  "language_info": {
   "codemirror_mode": {
    "name": "ipython",
    "version": 3
   },
   "file_extension": ".py",
   "mimetype": "text/x-python",
   "name": "python",
   "nbconvert_exporter": "python",
   "pygments_lexer": "ipython3",
   "version": "3.6.5"
  }
 },
 "nbformat": 4,
 "nbformat_minor": 5
}
